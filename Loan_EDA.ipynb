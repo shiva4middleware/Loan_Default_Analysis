# Import required libraries
import pandas as pd  # For data manipulation and analysis
import numpy as np  # For numerical operations
import matplotlib.pyplot as plt  # For creating visualizations
import seaborn as sns  # For advanced statistical visualizations

# Load the dataset with low_memory=False to avoid DtypeWarning
loan_data = pd.read_csv('loan.csv', low_memory=False)

# Step 1: Data Overview
print("Dataset Shape:", loan_data.shape)
print("\nDataset Info:")
print(loan_data.info())  # Overview of columns, data types, and non-null values

# Step 2: Check for Missing Values
missing_values = loan_data.isnull().sum()
missing_percentage = (missing_values / len(loan_data)) * 100
missing_summary = pd.DataFrame({
    "Missing Values": missing_values,
    "Percentage Missing": missing_percentage
}).sort_values(by="Percentage Missing", ascending=False)

print("\nMissing Data Summary:")
print(missing_summary)

# Drop columns with 100% missing values
columns_to_drop = missing_summary[missing_summary['Percentage Missing'] == 100].index
loan_data_cleaned = loan_data.drop(columns=columns_to_drop, axis=1)
print("\nColumns dropped due to 100% missing data.")

# Step 3: Standardize Mixed-Type Columns
def clean_emp_length(emp_length):
    if pd.isnull(emp_length):
        return np.nan
    if '< 1' in emp_length:
        return 0
    if '10+' in emp_length:
        return 10
    return int(emp_length.split()[0])

loan_data_cleaned['emp_length_cleaned'] = loan_data_cleaned['emp_length'].apply(clean_emp_length)
loan_data_cleaned['revol_util_cleaned'] = loan_data_cleaned['revol_util'].str.replace('%', '').astype(float)

date_columns = ['last_pymnt_d', 'next_pymnt_d', 'last_credit_pull_d']
for col in date_columns:
    loan_data_cleaned[col] = pd.to_datetime(loan_data_cleaned[col], format='%b-%y', errors='coerce')

print("\nSample of cleaned columns:")
print(loan_data_cleaned[['emp_length', 'emp_length_cleaned', 'revol_util', 'revol_util_cleaned', 'last_pymnt_d']].head())

# Step 4: Univariate Analysis
numerical_columns = ['loan_amnt', 'annual_inc', 'revol_util_cleaned', 'int_rate']
for col in numerical_columns:
    plt.figure(figsize=(8, 4))
    sns.histplot(loan_data_cleaned[col], kde=True)
    plt.title(f'Distribution of {col}')
    plt.xlabel(col)
    plt.ylabel('Frequency')
    plt.show()

categorical_columns = ['grade', 'sub_grade', 'loan_status']
for col in categorical_columns:
    plt.figure(figsize=(8, 4))
    sns.countplot(data=loan_data_cleaned, x=col, order=loan_data_cleaned[col].value_counts().index)
    plt.title(f'Count of {col}')
    plt.xlabel(col)
    plt.ylabel('Count')
    plt.xticks(rotation=45)
    plt.show()

# Step 5: Bivariate Analysis
plt.figure(figsize=(10, 6))
sns.boxplot(data=loan_data_cleaned, x='loan_status', y='loan_amnt')
plt.title('Loan Amount vs Loan Status')
plt.xlabel('Loan Status')
plt.ylabel('Loan Amount')
plt.show()

plt.figure(figsize=(10, 6))
sns.boxplot(data=loan_data_cleaned, x='loan_status', y='revol_util_cleaned')
plt.title('Revolving Utilization vs Loan Status')
plt.xlabel('Loan Status')
plt.ylabel('Revolving Utilization (%)')
plt.show()

# Step 6: Correlation Analysis
correlation_matrix = loan_data_cleaned.corr()
plt.figure(figsize=(12, 8))
sns.heatmap(correlation_matrix, annot=False, cmap='coolwarm')
plt.title('Correlation Heatmap')
plt.show()

# Step 7: Summary of Key Insights
print("\nSummary of Key Insights:")
print("- The majority of loans fall into specific grades ('B', 'C', 'D') as seen in the countplot.")
print("- Higher revolving utilization rates and loan amounts show a higher tendency of default (as seen in boxplots).")
print("- Strong correlation observed between 'loan_amnt' and 'funded_amnt'. Other correlations are relatively weak.")
print("- Date columns can be used for temporal trend analysis (e.g., last payment dates).")

# Add actionable recommendations based on these insights
print("\nRecommendations:")
print("- Implement stricter loan approval criteria for applicants with higher revolving utilization rates.")
print("- Closely monitor loans in higher sub-grades like 'E', 'F', and 'G' as they are riskier.")
print("- Investigate additional features like 'purpose' or 'annual income' for targeted credit policy adjustments.")
